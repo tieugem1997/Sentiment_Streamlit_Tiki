{
 "cells": [
  {
   "cell_type": "code",
   "execution_count": null,
   "metadata": {},
   "outputs": [],
   "source": [
    "import requests\n",
    "\n",
    "search_query = 'May tinh bang'\n",
    "# Define the URL of the API\n",
    "url = \"https://tiki.vn/api/v2/products?q=\" + search_query\n",
    "\n",
    "headers = {\n",
    "    'User-Agent': 'Mozilla/5.0 (Windows NT 10.0; Win64; x64) AppleWebKit/537.36 (KHTML, like Gecko) Chrome/94.0.4606.71 Safari/537.36'\n",
    "}\n",
    "\n",
    "try:\n",
    "    response = requests.get(url, headers=headers)\n",
    "    response.raise_for_status()  # Raise an exception for unsuccessful HTTP status codes\n",
    "\n",
    "    data = response.json()    \n",
    "\n",
    "except requests.exceptions.RequestException as e:\n",
    "    st.write(f\"An error occurred: {e}\")\n",
    "    data = {\"data\": []}\n",
    "except json.JSONDecodeError as e:\n",
    "    st.write(f\"Error decoding JSON: {e}\")\n",
    "    data = {\"data\": []}\n",
    "    \n",
    "# Extracting the necessary information and creating a DataFrame\n",
    "review_link = 'https://tiki.vn/api/v2/reviews?product_id='\n",
    "# Extracting the necessary information and creating a list of dictionaries\n",
    "product_list = []\n",
    "for item in data[\"data\"]:\n",
    "    product = {\n",
    "        \"product_id\": str(item[\"id\"]),\n",
    "        \"name\": item[\"name\"],\n",
    "        \"sold\": item.get(\"quantity_sold\", {}).get(\"value\", \"N/A\"),\n",
    "        \"price\": item.get(\"price\", \"N/A\"),\n",
    "        \"image\": item.get(\"thumbnail_url\", \"N/A\"),\n",
    "        \"review_count\": item.get(\"review_count\", \"N/A\"),\n",
    "        \"rating_average\": item.get(\"rating_average\", \"N/A\"),\n",
    "        \"link_comment\": review_link + str(item[\"id\"])\n",
    "    }\n",
    "    product_list.append(product)\n",
    "\n",
    "products = product_list"
   ]
  },
  {
   "cell_type": "code",
   "execution_count": null,
   "metadata": {},
   "outputs": [],
   "source": [
    "products"
   ]
  },
  {
   "cell_type": "code",
   "execution_count": null,
   "metadata": {},
   "outputs": [],
   "source": [
    "# Assuming the rest of your code is above this\n",
    "\n",
    "# Fetch the review data for the first product using the link_comment key\n",
    "review_url = products[0]['link_comment']\n",
    "\n",
    "try:\n",
    "    review_response = requests.get(review_url, headers=headers)\n",
    "    review_response.raise_for_status()  # Raise an exception for unsuccessful HTTP status codes\n",
    "\n",
    "    review_data = review_response.json()\n",
    "\n",
    "except requests.exceptions.RequestException as e:\n",
    "    st.write(f\"An error occurred: {e}\")\n",
    "    review_data = {\"data\": []}\n",
    "except json.JSONDecodeError as e:\n",
    "    st.write(f\"Error decoding JSON: {e}\")\n",
    "    review_data = {\"data\": []}\n",
    "\n",
    "comments = [\n",
    "    {\n",
    "        \"product_id\": products[0][\"product_id\"],\n",
    "        \"username\": review.get(\"created_by\", {}).get(\"name\", \"Anonymous\"),\n",
    "        \"rating\": review.get(\"rating\", 0),\n",
    "        \"content\": review.get(\"content\", \"No content\"),\n",
    "    }\n",
    "    for review in review_data.get(\"data\", [])\n",
    "]\n",
    "\n",
    "# Print the review data or process it as you need\n",
    "comments"
   ]
  },
  {
   "cell_type": "code",
   "execution_count": null,
   "metadata": {},
   "outputs": [],
   "source": [
    "comments = []\n",
    "\n",
    "for product in products:\n",
    "    review_url = product['link_comment']\n",
    "    \n",
    "    try:\n",
    "        review_response = requests.get(review_url, headers=headers)\n",
    "        review_response.raise_for_status()  # Raise an exception for unsuccessful HTTP status codes\n",
    "\n",
    "        review_data = review_response.json()\n",
    "        \n",
    "        comments_productid = [\n",
    "            {\n",
    "                \"product_id\": product[\"product_id\"],\n",
    "                \"username\": review.get(\"created_by\", {}).get(\"name\", \"Anonymous\"),\n",
    "                \"rating\": review.get(\"rating\", 0),\n",
    "                \"content\": review.get(\"content\", \"No content\"),\n",
    "            }\n",
    "            for review in review_data.get(\"data\", [])\n",
    "        ]\n",
    "        \n",
    "        comments.extend(comments_productid)\n",
    "\n",
    "    except requests.exceptions.RequestException as e:\n",
    "        st.write(f\"An error occurred: {e}\")\n",
    "    except json.JSONDecodeError as e:\n",
    "        st.write(f\"Error decoding JSON: {e}\")\n",
    "\n",
    "# Print all the comments or process them as you need\n",
    "comments\n"
   ]
  },
  {
   "cell_type": "code",
   "execution_count": 1,
   "metadata": {},
   "outputs": [],
   "source": [
    "import sklearn "
   ]
  }
 ],
 "metadata": {
  "kernelspec": {
   "display_name": "Python 3",
   "language": "python",
   "name": "python3"
  },
  "language_info": {
   "codemirror_mode": {
    "name": "ipython",
    "version": 3
   },
   "file_extension": ".py",
   "mimetype": "text/x-python",
   "name": "python",
   "nbconvert_exporter": "python",
   "pygments_lexer": "ipython3",
   "version": "3.9.0rc1"
  },
  "orig_nbformat": 4
 },
 "nbformat": 4,
 "nbformat_minor": 2
}
